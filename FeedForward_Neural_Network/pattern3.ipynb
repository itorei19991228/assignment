{
  "nbformat": 4,
  "nbformat_minor": 0,
  "metadata": {
    "colab": {
      "name": "pattern2.ipynb",
      "provenance": [],
      "collapsed_sections": []
    },
    "kernelspec": {
      "name": "python3",
      "display_name": "Python 3"
    },
    "language_info": {
      "name": "python"
    }
  },
  "cells": [
    {
      "cell_type": "code",
      "execution_count": 1,
      "metadata": {
        "colab": {
          "base_uri": "https://localhost:8080/"
        },
        "id": "y0HHCf_okAAO",
        "outputId": "bdb23568-c0cf-4c8f-e520-3356a93be2fd"
      },
      "outputs": [
        {
          "output_type": "stream",
          "name": "stdout",
          "text": [
            "Mounted at /content/gdrive\n"
          ]
        }
      ],
      "source": [
        "from google.colab import drive\n",
        "drive.mount('/content/gdrive')"
      ]
    },
    {
      "cell_type": "code",
      "source": [
        "from pandas.core.common import temp_setattr\n",
        "import pandas as pd\n",
        "import numpy as np\n",
        "import math\n",
        "\n",
        "data = pd.read_csv('/content/gdrive/MyDrive/pattern_kadai2/owid-covid-data.csv')\n",
        "data2 = data[[\"iso_code\",\"location\",\"date\",\"new_cases_per_million\",\"new_deaths_per_million\",\"reproduction_rate\",\"new_tests_per_thousand\",\"stringency_index\"]]\n",
        "data3 = data2.to_numpy()\n",
        "\n",
        "def make_data(country_name): #各国の欲しいデータだけをまとめた行列を作る。\n",
        "  #目的の国のデータを抽出\n",
        "  list_country = []\n",
        "  for i in range(data3.shape[0]):\n",
        "    list_country.append(data3[i,0] == country_name)\n",
        "  data_country = data3[list_country,:]\n",
        "  \n",
        "  #nanであるところを省く\n",
        "  list_nan_country = []\n",
        "  for k in range(data_country.shape[0]):\n",
        "    list_nan_country.append((not(np.isnan(data_country[k,3]))) and \n",
        "                            (not(np.isnan(data_country[k,4]))) and \n",
        "                            (not(np.isnan(data_country[k,5]))) and \n",
        "                            (not(np.isnan(data_country[k,6]))) and \n",
        "                            (not(np.isnan(data_country[k,7])))) \n",
        "  data_country2 = data_country[list_nan_country,:] \n",
        "  \n",
        "  #数値を0から1に正規化\n",
        "  tmp_c = 0\n",
        "  tmp_d = 0\n",
        "  tmp_r = 0\n",
        "  tmp_t = 0\n",
        "  tmp_s = 0\n",
        "  for l in range(data_country2.shape[0]):\n",
        "    if (data_country2[l,3] > tmp_c) :\n",
        "      tmp_c = data_country2[l,3]\n",
        "    if (data_country2[l,4] > tmp_d) :\n",
        "      tmp_d = data_country2[l,4]\n",
        "    if (data_country2[l,5] > tmp_r) :\n",
        "      tmp_r = data_country2[l,5]\n",
        "    if (data_country2[l,6] > tmp_t) :\n",
        "      tmp_t = data_country2[l,6]\n",
        "    if (data_country2[l,7] > tmp_s) :\n",
        "      tmp_s = data_country2[l,7]\n",
        "\n",
        "  for m in range(data_country2.shape[0]):\n",
        "    data_country2[m,3] = data_country2[m,3]/tmp_c\n",
        "    data_country2[m,4] = data_country2[m,4]/tmp_d\n",
        "    data_country2[m,5] = data_country2[m,5]/tmp_r\n",
        "    data_country2[m,6] = data_country2[m,6]/tmp_t\n",
        "    data_country2[m,7] = data_country2[m,7]/tmp_s\n",
        "    \n",
        "  return data_country2\n",
        "\n",
        "data_JPN = make_data(\"JPN\")\n",
        "#print(data_JPN[:,6])\n",
        "data_USA = make_data(\"USA\")\n",
        "#print(data_USA)"
      ],
      "metadata": {
        "id": "kz-H4sHQko8k"
      },
      "execution_count": 2,
      "outputs": []
    },
    {
      "cell_type": "code",
      "source": [
        "#活性化関数（シグモイド関数）\n",
        "def sigmoid(a,x):\n",
        "  return 1/(1 + math.exp(-a*x))\n",
        "\n",
        "#シグモイド関数の微分\n",
        "def diff_sigmoid(a,x):\n",
        "  return a*sigmoid(a,x)*(1-sigmoid(a,x))\n",
        "\n",
        "#10進数の少数を2進数に変換\n",
        "def binary(number):\n",
        "  list_binary = []\n",
        "  for i in range(o):\n",
        "    if number - 1.0/(2**(i+1)) >= 0:\n",
        "      list_binary.append(1)\n",
        "      number = number - 1.0/(2**(i+1))\n",
        "    else:\n",
        "      list_binary.append(0)\n",
        "  \n",
        "  return list_binary\n",
        "\n",
        "i = 5  #入力層のニューロン数\n",
        "h1 = 10  #隠れ層1のニューロン数\n",
        "h2 = 10   #隠れ層2のニューロン数\n",
        "o = 15    #出力層のニューロン数\n",
        "s = 0.005 #重みとバイアス初期値の標準偏差\n",
        "e = 0.005 #学習率\n",
        "W1 = s*np.random.randn(i,h1)     #入力層から隠れ層1への重み初期値（ガウス分布,平均0,標準偏差s）\n",
        "W2 = s*np.random.randn(h1,h2)   #隠れ層1から隠れ層2への重み初期値（ガウス分布,平均0,標準偏差s）\n",
        "W3 = s*np.random.randn(h2,o)\n",
        "b1 = s*np.random.randn(1,h1)    #隠れ層へのバイアスの初期値（ガウス分布,平均0,標準偏差s）\n",
        "b2 = s*np.random.randn(1,h2)    #出力層へのバイアスの初期値（ガウス分布,平均0,標準偏差s）\n",
        "b3 = s*np.random.randn(1,o)\n",
        "batch = 30\n",
        "\n",
        "#ニューラルネットワークで学習を行う関数。返り値は損失\n",
        "def neural_network(channel,data_train): #channelは出力のチャンネルを表す。channel=3の時はnew_cases_smoothed_per_million\n",
        "  global W1\n",
        "  global W2\n",
        "  global W3\n",
        "  global b1\n",
        "  global b2\n",
        "  global b3\n",
        "  #ミニバッチ、訓練サンプルからbatchだけrandomに選択\n",
        "  choice = np.random.choice(600,batch)\n",
        "  error3 = np.zeros((1,o))\n",
        "  loss = 0\n",
        "  for i in choice:\n",
        "    z0 = []\n",
        "    z0.append(data_train[i,3:8])\n",
        "    z0 = np.array(z0)\n",
        "    u1 = np.dot(z0,W1) + b1\n",
        "    z1_one_dim = []\n",
        "    for k1 in range(u1.shape[1]):\n",
        "      z1_one_dim.append(sigmoid(10,u1[0,k1]))\n",
        "    z1_one_dim = np.array(z1_one_dim)\n",
        "    z1 = []\n",
        "    z1.append(z1_one_dim)\n",
        "    z1 = np.array(z1)\n",
        "    \n",
        "    u2 = np.dot(z1,W2) + b2\n",
        "    z2_one_dim = []\n",
        "    for k2 in range(u2.shape[1]):\n",
        "      z2_one_dim.append(sigmoid(10,u2[0,k2]))\n",
        "    z2_one_dim = np.array(z2_one_dim)\n",
        "    z2 = []\n",
        "    z2.append(z2_one_dim)\n",
        "    z2 = np.array(z2)\n",
        "\n",
        "    u3 = np.dot(z2,W3) + b3\n",
        "    z3_one_dim = []\n",
        "    for k3 in range(u3.shape[1]):\n",
        "      z3_one_dim.append(sigmoid(10,u3[0,k3]))\n",
        "    z3_one_dim = np.array(z3_one_dim)\n",
        "    z3 = []\n",
        "    z3.append(z3_one_dim)\n",
        "    z3 = np.array(z3)\n",
        "    \n",
        "    #正解ラベルの行列を用意\n",
        "    t_vec = binary(data_train[i+7,channel])\n",
        "    t_vec = np.array(t_vec)\n",
        "    t_mat = []\n",
        "    t_mat.append(t_vec)\n",
        "    t_mat = np.array(t_mat)\n",
        "    \n",
        "    loss = loss + np.mean(np.square(z3 - t_mat))/2\n",
        "\n",
        "    #誤差の計算、損失関数は平均二乗誤差\n",
        "    diff_z3_vec = []\n",
        "    for l3 in range(u3.shape[1]):\n",
        "      diff_z3_vec.append(diff_sigmoid(10,u3[0,l3]))\n",
        "    diff_z3_vec = np.array(diff_z3_vec)\n",
        "    diff_z3_mat = []\n",
        "    diff_z3_mat.append(diff_z3_vec)\n",
        "    diff_z3_mat = np.array(diff_z3_mat)\n",
        "    error3 = error3 + diff_z3_mat * (z3 - t_mat) \n",
        "  error3 = error3 / batch\n",
        "\n",
        "  #誤差逆伝播\n",
        "  delJ_delW3 = np.dot(z2.T,error3)\n",
        "  delJ_delb3 = error3\n",
        " \n",
        "  diff_z2_vec = []\n",
        "  for l2 in range(u2.shape[1]):\n",
        "    diff_z2_vec.append(diff_sigmoid(10,u2[0,l2]))\n",
        "  diff_z2_vec = np.array(diff_z2_vec)\n",
        "  diff_z2_mat = []\n",
        "  diff_z2_mat.append(diff_z2_vec)\n",
        "  diff_z2_mat = np.array(diff_z2_mat)\n",
        "\n",
        "  error2 = diff_z2_mat * np.dot(error3,W3.T)\n",
        "  delJ_delW2 = np.dot(z1.T,error2)\n",
        "  delJ_delb2 = error2\n",
        "\n",
        "  diff_z1_vec = []\n",
        "  for l1 in range(u1.shape[1]):\n",
        "    diff_z1_vec.append(diff_sigmoid(10,u1[0,l1]))\n",
        "  diff_z1_vec = np.array(diff_z1_vec)\n",
        "  diff_z1_mat = []\n",
        "  diff_z1_mat.append(diff_z1_vec)\n",
        "  diff_z1_mat = np.array(diff_z1_mat)\n",
        "\n",
        "  error1 = diff_z1_mat * np.dot(error2,W2.T)\n",
        "  delJ_delW1 = np.dot(z0.T,error1)\n",
        "  delJ_delb1 = error1\n",
        "  \n",
        "  #重みとバイアスの更新\n",
        "  W1 = W1 - e * delJ_delW1\n",
        "  b1 = b1 - e * delJ_delb1\n",
        "  W2 = W2 - e * delJ_delW2\n",
        "  b2 = b2 - e * delJ_delb2\n",
        "  W3 = W3 - e * delJ_delW3\n",
        "  b3 = b3 - e * delJ_delb3\n",
        "\n",
        "  return loss/batch\n"
      ],
      "metadata": {
        "id": "pk2QZ1cToBlH"
      },
      "execution_count": 3,
      "outputs": []
    },
    {
      "cell_type": "code",
      "source": [
        "#データをニューラルネットワークに入れて予測値を出す関数\n",
        "def forward(i,data_test): #iテストデータの行\n",
        "  #入力層から隠れ層へ\n",
        "  z0_test = []\n",
        "  z0_test.append(data_test[i,3:8])\n",
        "  z0_test = np.array(z0_test)\n",
        "  u1_test = np.dot(z0_test,W1) + b1\n",
        "  z1_vec_test = []\n",
        "  for h1 in range(u1_test.shape[1]):\n",
        "    z1_vec_test.append(sigmoid(10,u1_test[0,h1]))\n",
        "  z1_vec_test = np.array(z1_vec_test)\n",
        "  z1_test_mat = []\n",
        "  z1_test_mat.append(z1_vec_test)\n",
        "  z1_test_mat = np.array(z1_test_mat)\n",
        "\n",
        "  #隠れ層から出力へ\n",
        "  u2_test = np.dot(z1_test_mat,W2) + b2\n",
        "  z2_vec_test = []\n",
        "  for h2 in range(u2_test.shape[1]):\n",
        "    z2_vec_test.append(sigmoid(10,u2_test[0,h2]))\n",
        "  z2_vec_test = np.array(z2_vec_test)\n",
        "  z2_test_mat = []\n",
        "  z2_test_mat.append(z2_vec_test)\n",
        "  z2_test_mat = np.array(z2_test_mat)\n",
        "\n",
        "  u3_test = np.dot(z2_test_mat,W3) + b3\n",
        "  z3_vec_test = []\n",
        "  for h3 in range(u3_test.shape[1]):\n",
        "    z3_vec_test.append(sigmoid(10,u3_test[0,h3]))\n",
        "  z3_vec_test = np.array(z3_vec_test)\n",
        "  z3_test_mat = []\n",
        "  z3_test_mat.append(z3_vec_test)\n",
        "  z3_test_mat = np.array(z3_test_mat)\n",
        "\n",
        "  predict_value = 0;\n",
        "  for i in range(z3_test_mat.shape[1]):\n",
        "    if z3_test_mat[0,i] > 0.5 : #0.5より大きい時にニューロン発火とみなす\n",
        "      predict_value = predict_value + 1.0/(2**(i + 1))\n",
        "\n",
        "  return predict_value\n",
        "\n"
      ],
      "metadata": {
        "id": "LtfX4yV6p02H"
      },
      "execution_count": 4,
      "outputs": []
    },
    {
      "cell_type": "code",
      "source": [
        "LOSS = []\n",
        "I = []\n",
        "cha = 3\n",
        "for i in range(100000):\n",
        "  neural_network(cha,data_JPN)\n",
        "  if (i % 1000 ==0):\n",
        "    I.append(i)\n",
        "    LOSS.append(neural_network(cha,data_JPN))"
      ],
      "metadata": {
        "id": "1Wnzzr_P_GqL"
      },
      "execution_count": 5,
      "outputs": []
    },
    {
      "cell_type": "code",
      "source": [
        "plt.figure()\n",
        "plt.plot(I,LOSS)\n",
        "plt.title(\"Loss Function\")\n",
        "plt.xlabel(\"i\")\n",
        "plt.ylabel(\"Loss\")\n",
        "plt.show()  "
      ],
      "metadata": {
        "colab": {
          "base_uri": "https://localhost:8080/",
          "height": 295
        },
        "id": "URpHiKsH-qSk",
        "outputId": "56cc9099-ea9a-483d-abd2-29c4bbc11b51"
      },
      "execution_count": 326,
      "outputs": [
        {
          "output_type": "display_data",
          "data": {
            "image/png": "[encoded data removed]",
            "text/plain": [
              "<Figure size 432x288 with 1 Axes>"
            ]
          },
          "metadata": {
            "needs_background": "light"
          }
        }
      ]
    },
    {
      "cell_type": "code",
      "source": [
        "import matplotlib.pyplot as plt\n",
        "\n",
        "hist_error = []\n",
        "for a in range (50):\n",
        "  if(data_JPN[a+600+7,cha] != 0):\n",
        "    error_ratio = abs(forward(a+600,data_JPN) - data_JPN[a+600+7,cha])/data_JPN[a+600+7,cha]\n",
        "    hist_error.append(error_ratio)\n",
        "\n",
        "# ヒストグラムを表示\n",
        "plt.hist(hist_error, bins=25)\n",
        "plt.xlabel(\"error_ratio\")"
      ],
      "metadata": {
        "colab": {
          "base_uri": "https://localhost:8080/",
          "height": 298
        },
        "id": "CCEWO3A8ll_i",
        "outputId": "1eba5c7e-ccc4-4551-db13-676cee9dc7da"
      },
      "execution_count": 327,
      "outputs": [
        {
          "output_type": "execute_result",
          "data": {
            "text/plain": [
              "Text(0.5, 0, 'error_ratio')"
            ]
          },
          "metadata": {},
          "execution_count": 327
        },
        {
          "output_type": "display_data",
          "data": {
            "image/png": "[encoded data removed]",
            "text/plain": [
              "<Figure size 432x288 with 1 Axes>"
            ]
          },
          "metadata": {
            "needs_background": "light"
          }
        }
      ]
    }
  ]
}